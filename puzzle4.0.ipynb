{
 "cells": [
  {
   "cell_type": "code",
   "execution_count": 1,
   "metadata": {},
   "outputs": [
    {
     "name": "stdout",
     "output_type": "stream",
     "text": [
      "(3024, 4032, 3)\n"
     ]
    },
    {
     "ename": "KeyboardInterrupt",
     "evalue": "",
     "output_type": "error",
     "traceback": [
      "\u001b[0;31m---------------------------------------------------------------------------\u001b[0m",
      "\u001b[0;31mKeyboardInterrupt\u001b[0m                         Traceback (most recent call last)",
      "\u001b[0;32m<ipython-input-1-3f2ef0edf6ba>\u001b[0m in \u001b[0;36m<module>\u001b[0;34m\u001b[0m\n\u001b[1;32m     38\u001b[0m \u001b[0;31m#统计\u001b[0m\u001b[0;34m\u001b[0m\u001b[0;34m\u001b[0m\u001b[0;34m\u001b[0m\u001b[0m\n\u001b[1;32m     39\u001b[0m \u001b[0;32mfor\u001b[0m \u001b[0mi\u001b[0m \u001b[0;32min\u001b[0m \u001b[0mrange\u001b[0m\u001b[0;34m(\u001b[0m\u001b[0msh\u001b[0m\u001b[0;34m[\u001b[0m\u001b[0;36m0\u001b[0m\u001b[0;34m]\u001b[0m\u001b[0;34m)\u001b[0m\u001b[0;34m:\u001b[0m\u001b[0;34m\u001b[0m\u001b[0;34m\u001b[0m\u001b[0m\n\u001b[0;32m---> 40\u001b[0;31m     \u001b[0;32mfor\u001b[0m \u001b[0mj\u001b[0m \u001b[0;32min\u001b[0m \u001b[0mrange\u001b[0m\u001b[0;34m(\u001b[0m\u001b[0msh\u001b[0m\u001b[0;34m[\u001b[0m\u001b[0;36m1\u001b[0m\u001b[0;34m]\u001b[0m\u001b[0;34m)\u001b[0m\u001b[0;34m:\u001b[0m\u001b[0;34m\u001b[0m\u001b[0;34m\u001b[0m\u001b[0m\n\u001b[0m\u001b[1;32m     41\u001b[0m         \u001b[0ma\u001b[0m\u001b[0;34m[\u001b[0m\u001b[0mint\u001b[0m\u001b[0;34m(\u001b[0m\u001b[0mimg\u001b[0m\u001b[0;34m[\u001b[0m\u001b[0mi\u001b[0m\u001b[0;34m,\u001b[0m\u001b[0mj\u001b[0m\u001b[0;34m,\u001b[0m\u001b[0;36m0\u001b[0m\u001b[0;34m]\u001b[0m\u001b[0;34m)\u001b[0m\u001b[0;34m]\u001b[0m\u001b[0;34m+=\u001b[0m\u001b[0;36m1\u001b[0m\u001b[0;34m\u001b[0m\u001b[0;34m\u001b[0m\u001b[0m\n\u001b[1;32m     42\u001b[0m \u001b[0;34m\u001b[0m\u001b[0m\n",
      "\u001b[0;31mKeyboardInterrupt\u001b[0m: "
     ]
    }
   ],
   "source": [
    "\n",
    "import cv2\n",
    "import matplotlib.pyplot as plt\n",
    "#import numpy as np\n",
    "\n",
    "#扫描出各波谷\n",
    "def Gu():\n",
    "    guv.append(0)\n",
    "    for i in range(1,255):\n",
    "        if a[i]<a[i+1] and a[i]<a[i-1]:\n",
    "            guv.append(i)\n",
    "    guv.append(256)\n",
    "\n",
    "#扫描出各波峰\n",
    "def Feng():\n",
    "    if a[0]>a[1]:\n",
    "        feng.append(0)\n",
    "    for i in range(1,255):\n",
    "        if a[i]>a[i+1] and a[i]>a[i-1]:\n",
    "            feng.append(i)\n",
    "    if a[255]>a[254]:\n",
    "        feng.append(255)\n",
    "\n",
    "def val(i):\n",
    "    for j in range(1,len(guv)):\n",
    "        if i>=guv[j-1] and i<guv[j]:\n",
    "            kk=feng[j-1]\n",
    "            return (kk,kk,kk)\n",
    "\n",
    "\n",
    "img = cv2.imread('low.png')\n",
    "\n",
    "a = [0 for i in range(256)]#存放不同像素值对应的像素点数统计结果\n",
    "guv = []#存放各波谷所在的像素值\n",
    "feng = []#存放各波峰所在的像素值\n",
    "\n",
    "sh=img.shape\n",
    "print(sh)\n",
    "#统计\n",
    "for i in range(sh[0]):\n",
    "    for j in range(sh[1]):\n",
    "        a[int(img[i,j,0])]+=1\n",
    "\n",
    "Gu()\n",
    "Feng()\n",
    "#归一化\n",
    "for i in range(2,sh[0]-2):\n",
    "    for j in range(2,sh[1]-2):\n",
    "        #print(img[i,j,0])\n",
    "        img[i,j] = val(img[i,j,0])\n",
    "\n",
    "cv2.imwrite('julei.png',img)\n",
    "\n",
    "x=[i for i in range(256)]\n",
    " \n",
    "plt.figure()\n",
    "plt.plot(x,a)\n",
    "plt.legend()"
   ]
  },
  {
   "cell_type": "code",
   "execution_count": null,
   "metadata": {},
   "outputs": [],
   "source": []
  }
 ],
 "metadata": {
  "kernelspec": {
   "display_name": "TensorFlow-GPU",
   "language": "python",
   "name": "tf-gpu"
  },
  "language_info": {
   "codemirror_mode": {
    "name": "ipython",
    "version": 3
   },
   "file_extension": ".py",
   "mimetype": "text/x-python",
   "name": "python",
   "nbconvert_exporter": "python",
   "pygments_lexer": "ipython3",
   "version": "3.6.9"
  }
 },
 "nbformat": 4,
 "nbformat_minor": 2
}
