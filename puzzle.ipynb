{
 "cells": [
  {
   "cell_type": "code",
   "execution_count": 1,
   "metadata": {},
   "outputs": [
    {
     "name": "stdout",
     "output_type": "stream",
     "text": [
      " x: 420  X: 1500 y: 0 Y: 1080\n",
      " x: 420  X: 1500 y: 0 Y: 1080\n",
      " x: 420  X: 1500 y: 0 Y: 1080\n",
      " x: 420  X: 1500 y: 0 Y: 1080\n",
      "(1080, 1080, 3)\n"
     ]
    },
    {
     "data": {
      "text/plain": [
       "'\\ncv2.imshow(\"Image\", image)\\ncv2.waitKey(0)\\ncv2.destroyWindow(\"Image\") '"
      ]
     },
     "execution_count": 1,
     "metadata": {},
     "output_type": "execute_result"
    }
   ],
   "source": [
    "import cv2\n",
    "import numpy as np\n",
    "\n",
    "#拼图\n",
    "def puzzle(image1,image2,image3,image4):\n",
    "    h1,w1,c1 = image1.shape\n",
    "    h2,w2,c2 = image2.shape\n",
    "    h3,w3,c3 = image3.shape\n",
    "    h4,w4,c4 = image4.shape\n",
    "    c=(c1+c2+c3+c4)\n",
    "    if c!=4*c1 & c!=4*c2 & c!=4*c3 &c!=4*c4 :\n",
    "        print(\"channels NOT match, cannot merge\")\n",
    "        return \n",
    "    else:\n",
    "        h=1080\n",
    "        Image1 = cv2.resize(image1, (h, h), interpolation=cv2.INTER_NEAREST)\n",
    "        Image2 = cv2.resize(image2, (int(h/3), int(h/3)), interpolation=cv2.INTER_NEAREST)\n",
    "        Image3 = cv2.resize(image3, (int(h/3), int(h/3)), interpolation=cv2.INTER_NEAREST)\n",
    "        Image4 = cv2.resize(image4, (int(h/3), int(h/3)), interpolation=cv2.INTER_NEAREST)\n",
    "        Image=np.hstack([Image2,Image3])\n",
    "        Image=np.hstack([Image,Image4])\n",
    "        Image=np.vstack([Image1,Image])\n",
    "    return Image\n",
    "    \n",
    "#图片切割\n",
    "def crop(path):\n",
    "    im = cv2.imread(path)\n",
    "    if im.shape[1]>=im.shape[0]:\n",
    "        y=0\n",
    "        Y=im.shape[0]\n",
    "        x=(im.shape[1]-im.shape[0])/2\n",
    "        X=im.shape[1]-(im.shape[1]-im.shape[0])/2\n",
    "    else:\n",
    "        x=0\n",
    "        X=im.shape[1]\n",
    "        y=(im.shape[0]-im.shape[1])/2\n",
    "        Y=im.shape[0]-(im.shape[0]-im.shape[1])/2\n",
    "    img=im[int(y):int(Y),int(x):int(X)]\n",
    "    print(\" x:\",int(x),\" X:\",int(X),\"y:\",int(y),\"Y:\",int(Y))\n",
    "    return img\n",
    "\n",
    "path1=\"image1.png\"\n",
    "path2=\"image2.png\"\n",
    "path3=\"image3.png\"\n",
    "path4=\"image4.png\"\n",
    "\n",
    "image1=crop(path1)\n",
    "image2=crop(path2)\n",
    "image3=crop(path3)\n",
    "image4=crop(path4)\n",
    "\n",
    "print(image1.shape)\n",
    "\n",
    "image=puzzle(image1,image2,image3,image4)\n",
    "cv2.imwrite(\"image.png\",image)\n",
    "\n",
    "'''\n",
    "cv2.imshow(\"Image\", image)\n",
    "cv2.waitKey(0)\n",
    "cv2.destroyWindow(\"Image\") '''"
   ]
  },
  {
   "cell_type": "code",
   "execution_count": null,
   "metadata": {},
   "outputs": [],
   "source": []
  }
 ],
 "metadata": {
  "kernelspec": {
   "display_name": "TensorFlow-GPU",
   "language": "python",
   "name": "tf-gpu"
  },
  "language_info": {
   "codemirror_mode": {
    "name": "ipython",
    "version": 3
   },
   "file_extension": ".py",
   "mimetype": "text/x-python",
   "name": "python",
   "nbconvert_exporter": "python",
   "pygments_lexer": "ipython3",
   "version": "3.6.9"
  }
 },
 "nbformat": 4,
 "nbformat_minor": 2
}
